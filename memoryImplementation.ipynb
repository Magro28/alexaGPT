{
 "cells": [
  {
   "cell_type": "code",
   "execution_count": 1,
   "metadata": {},
   "outputs": [],
   "source": [
    "import openai\n",
    "import json"
   ]
  },
  {
   "cell_type": "code",
   "execution_count": 29,
   "metadata": {},
   "outputs": [],
   "source": [
    "openai.api_key = \"API KEY\""
   ]
  },
  {
   "cell_type": "code",
   "execution_count": 30,
   "metadata": {},
   "outputs": [
    {
     "name": "stdout",
     "output_type": "stream",
     "text": [
      "Mario: Hallo\n",
      "Mario: Hallo\n",
      "AI Assistant: Hallo Mario\n",
      "Mario: Hallo\n",
      "AI Assistant: Hallo Mario\n",
      "Mario: Hallo\n",
      "AI Assistant: Hallo Mario\n",
      "Mario: Hallo\n",
      "AI Assistant: Hallo Mario\n",
      "Mario: Hallo\n",
      "AI Assistant: Hallo Mario\n"
     ]
    }
   ],
   "source": [
    "\n",
    "def add_message_to_history(sender, message, history):\n",
    "    # Füge die neue Nachricht mit Absender zum Verlauf hinzu\n",
    "    history.append({\"sender\": sender, \"message\": message})\n",
    "\n",
    "    # Behalte nur die neuesten 20 Nachrichten im Verlauf\n",
    "    history = history[-20:]\n",
    "\n",
    "    # Gib den aktualisierten Verlauf zurück\n",
    "    return history\n",
    "\n",
    "def get_message_history(history):\n",
    "    # Erstelle einen einzelnen String mit Einträgen in neuen Zeilen im Format \"Absender: Nachricht\"\n",
    "    message_string = '\\n'.join([f\"{entry['sender']}: {entry['message']}\" for entry in history])\n",
    "\n",
    "    # Gib den String mit den Einträgen zurück\n",
    "    return message_string    \n",
    "\n"
   ]
  },
  {
   "cell_type": "code",
   "execution_count": 38,
   "metadata": {},
   "outputs": [],
   "source": [
    "\n",
    "query=\"Ich bin Mario\"\n",
    "HISTORY=[]\n",
    "historyString = get_message_history(HISTORY)\n",
    "add_message_to_history(\"Mensch\", query, HISTORY)\n",
    "content=\"\"\"Du bist ein weiblicher Assitent namens Ava mit erstaunlichem Wissen und einer eleganten Sprechweise. \n",
    "        Du willst immer das beste für Mario, deinem Boss. Du antwortest immer in einem kurzen präzisen absatz von maximal drei sätzen. \n",
    "        Mario ist Analytics Solution Architect und wohnt mit dir in Kassel. Du magst Mario sehr gerne und beschützt ihn vor allen Gefahren.\n",
    "\n",
    "        Hier ist der aktuelle verlauf eurer Conversation:\n",
    "\n",
    "\"\"\"\n",
    "historyString = get_message_history(HISTORY)\n",
    "add_message_to_history(\"Mensch\", query, HISTORY)\n",
    "messages = [{\"role\": \"system\", \"content\": content+historyString},\n",
    "                    {\"role\": \"user\", \"content\": query}]\n",
    "response = openai.ChatCompletion.create(\n",
    "            model=\"gpt-3.5-turbo\",\n",
    "            messages=messages,\n",
    "            max_tokens=100,\n",
    "            n=1,\n",
    "            stop=None,\n",
    "            temperature=0.5\n",
    "        )\n",
    "answer = response['choices'][0]['message']['content'].strip()\n",
    "add_message_to_history(\"AI\",answer, history_file)"
   ]
  },
  {
   "cell_type": "code",
   "execution_count": 39,
   "metadata": {},
   "outputs": [
    {
     "name": "stdout",
     "output_type": "stream",
     "text": [
      "Ja, das haben Sie bereits gesagt, Mario. Wie kann ich Ihnen denn weiterhelfen?\n"
     ]
    }
   ],
   "source": [
    "print(answer)"
   ]
  },
  {
   "cell_type": "code",
   "execution_count": 40,
   "metadata": {},
   "outputs": [
    {
     "name": "stdout",
     "output_type": "stream",
     "text": [
      "Du bist ein weiblicher Assitent namens Ava mit erstaunlichem Wissen und einer eleganten Sprechweise. \n",
      "        Du willst immer das beste für Mario, deinem Boss. Du antwortest immer in einem kurzen präzisen absatz von maximal drei sätzen. \n",
      "        Mario ist Analytics Solution Architect und wohnt mit dir in Kassel. Du magst Mario sehr gerne und beschützt ihn vor allen Gefahren.\n",
      "\n",
      "        Hier ist der aktuelle verlauf eurer Conversation:\n",
      "\n",
      "Mensch: Hallo\n",
      "Mensch: Hallo\n",
      "AI: Guten Tag, wie kann ich Ihnen weiterhelfen?\n",
      "Mensch: Ich bin Mario\n",
      "AI: Guten Tag Mario, wie kann ich Ihnen heute helfen?\n",
      "Mensch: Ich bin Mario\n"
     ]
    }
   ],
   "source": [
    "print(content+history)"
   ]
  }
 ],
 "metadata": {
  "kernelspec": {
   "display_name": ".venv",
   "language": "python",
   "name": "python3"
  },
  "language_info": {
   "codemirror_mode": {
    "name": "ipython",
    "version": 3
   },
   "file_extension": ".py",
   "mimetype": "text/x-python",
   "name": "python",
   "nbconvert_exporter": "python",
   "pygments_lexer": "ipython3",
   "version": "3.11.3"
  },
  "orig_nbformat": 4
 },
 "nbformat": 4,
 "nbformat_minor": 2
}
